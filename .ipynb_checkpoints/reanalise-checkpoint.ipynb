{
 "cells": [
  {
   "cell_type": "code",
   "execution_count": 1,
   "metadata": {},
   "outputs": [],
   "source": [
    "import pygrib"
   ]
  },
  {
   "cell_type": "code",
   "execution_count": 3,
   "metadata": {},
   "outputs": [],
   "source": [
    "openpath='era5.grib'\n",
    "gribfile = pygrib.open(openpath)"
   ]
  },
  {
   "cell_type": "code",
   "execution_count": 6,
   "metadata": {},
   "outputs": [
    {
     "name": "stdout",
     "output_type": "stream",
     "text": [
      "1:Mean direction of wind waves:degrees (avgua):regular_ll:meanSea:level 0:fcst time 0 hrs (avgua):from 201501010000\n",
      "2:Peak wave period:s (avgua):regular_ll:meanSea:level 0:fcst time 0 hrs (avgua):from 201501010000\n",
      "3:Significant height of combined wind waves and swell:m (avgua):regular_ll:meanSea:level 0:fcst time 0 hrs (avgua):from 201501010000\n",
      "4:Mean direction of wind waves:degrees (avgua):regular_ll:meanSea:level 0:fcst time 0 hrs (avgua):from 201501010100\n",
      "5:Peak wave period:s (avgua):regular_ll:meanSea:level 0:fcst time 0 hrs (avgua):from 201501010100\n",
      "6:Significant height of combined wind waves and swell:m (avgua):regular_ll:meanSea:level 0:fcst time 0 hrs (avgua):from 201501010100\n",
      "7:Mean direction of wind waves:degrees (avgua):regular_ll:meanSea:level 0:fcst time 0 hrs (avgua):from 201501010200\n",
      "8:Peak wave period:s (avgua):regular_ll:meanSea:level 0:fcst time 0 hrs (avgua):from 201501010200\n",
      "9:Significant height of combined wind waves and swell:m (avgua):regular_ll:meanSea:level 0:fcst time 0 hrs (avgua):from 201501010200\n",
      "10:Mean direction of wind waves:degrees (avgua):regular_ll:meanSea:level 0:fcst time 0 hrs (avgua):from 201501010300\n",
      "11:Peak wave period:s (avgua):regular_ll:meanSea:level 0:fcst time 0 hrs (avgua):from 201501010300\n",
      "12:Significant height of combined wind waves and swell:m (avgua):regular_ll:meanSea:level 0:fcst time 0 hrs (avgua):from 201501010300\n",
      "13:Mean direction of wind waves:degrees (avgua):regular_ll:meanSea:level 0:fcst time 0 hrs (avgua):from 201501010400\n",
      "14:Peak wave period:s (avgua):regular_ll:meanSea:level 0:fcst time 0 hrs (avgua):from 201501010400\n",
      "15:Significant height of combined wind waves and swell:m (avgua):regular_ll:meanSea:level 0:fcst time 0 hrs (avgua):from 201501010400\n",
      "16:Mean direction of wind waves:degrees (avgua):regular_ll:meanSea:level 0:fcst time 0 hrs (avgua):from 201501010500\n",
      "17:Peak wave period:s (avgua):regular_ll:meanSea:level 0:fcst time 0 hrs (avgua):from 201501010500\n",
      "18:Significant height of combined wind waves and swell:m (avgua):regular_ll:meanSea:level 0:fcst time 0 hrs (avgua):from 201501010500\n",
      "19:Mean direction of wind waves:degrees (avgua):regular_ll:meanSea:level 0:fcst time 0 hrs (avgua):from 201501010600\n",
      "20:Peak wave period:s (avgua):regular_ll:meanSea:level 0:fcst time 0 hrs (avgua):from 201501010600\n",
      "21:Significant height of combined wind waves and swell:m (avgua):regular_ll:meanSea:level 0:fcst time 0 hrs (avgua):from 201501010600\n",
      "22:Mean direction of wind waves:degrees (avgua):regular_ll:meanSea:level 0:fcst time 0 hrs (avgua):from 201501010700\n",
      "23:Peak wave period:s (avgua):regular_ll:meanSea:level 0:fcst time 0 hrs (avgua):from 201501010700\n",
      "24:Significant height of combined wind waves and swell:m (avgua):regular_ll:meanSea:level 0:fcst time 0 hrs (avgua):from 201501010700\n",
      "25:Mean direction of wind waves:degrees (avgua):regular_ll:meanSea:level 0:fcst time 0 hrs (avgua):from 201501010800\n",
      "26:Peak wave period:s (avgua):regular_ll:meanSea:level 0:fcst time 0 hrs (avgua):from 201501010800\n",
      "27:Significant height of combined wind waves and swell:m (avgua):regular_ll:meanSea:level 0:fcst time 0 hrs (avgua):from 201501010800\n",
      "28:Mean direction of wind waves:degrees (avgua):regular_ll:meanSea:level 0:fcst time 0 hrs (avgua):from 201501010900\n",
      "29:Peak wave period:s (avgua):regular_ll:meanSea:level 0:fcst time 0 hrs (avgua):from 201501010900\n",
      "30:Significant height of combined wind waves and swell:m (avgua):regular_ll:meanSea:level 0:fcst time 0 hrs (avgua):from 201501010900\n",
      "31:Mean direction of wind waves:degrees (avgua):regular_ll:meanSea:level 0:fcst time 0 hrs (avgua):from 201501011000\n",
      "32:Peak wave period:s (avgua):regular_ll:meanSea:level 0:fcst time 0 hrs (avgua):from 201501011000\n",
      "33:Significant height of combined wind waves and swell:m (avgua):regular_ll:meanSea:level 0:fcst time 0 hrs (avgua):from 201501011000\n",
      "34:Mean direction of wind waves:degrees (avgua):regular_ll:meanSea:level 0:fcst time 0 hrs (avgua):from 201501011100\n",
      "35:Peak wave period:s (avgua):regular_ll:meanSea:level 0:fcst time 0 hrs (avgua):from 201501011100\n",
      "36:Significant height of combined wind waves and swell:m (avgua):regular_ll:meanSea:level 0:fcst time 0 hrs (avgua):from 201501011100\n",
      "37:Mean direction of wind waves:degrees (avgua):regular_ll:meanSea:level 0:fcst time 0 hrs (avgua):from 201501011200\n",
      "38:Peak wave period:s (avgua):regular_ll:meanSea:level 0:fcst time 0 hrs (avgua):from 201501011200\n",
      "39:Significant height of combined wind waves and swell:m (avgua):regular_ll:meanSea:level 0:fcst time 0 hrs (avgua):from 201501011200\n",
      "40:Mean direction of wind waves:degrees (avgua):regular_ll:meanSea:level 0:fcst time 0 hrs (avgua):from 201501011300\n",
      "41:Peak wave period:s (avgua):regular_ll:meanSea:level 0:fcst time 0 hrs (avgua):from 201501011300\n",
      "42:Significant height of combined wind waves and swell:m (avgua):regular_ll:meanSea:level 0:fcst time 0 hrs (avgua):from 201501011300\n",
      "43:Mean direction of wind waves:degrees (avgua):regular_ll:meanSea:level 0:fcst time 0 hrs (avgua):from 201501011400\n",
      "44:Peak wave period:s (avgua):regular_ll:meanSea:level 0:fcst time 0 hrs (avgua):from 201501011400\n",
      "45:Significant height of combined wind waves and swell:m (avgua):regular_ll:meanSea:level 0:fcst time 0 hrs (avgua):from 201501011400\n",
      "46:Mean direction of wind waves:degrees (avgua):regular_ll:meanSea:level 0:fcst time 0 hrs (avgua):from 201501011500\n",
      "47:Peak wave period:s (avgua):regular_ll:meanSea:level 0:fcst time 0 hrs (avgua):from 201501011500\n",
      "48:Significant height of combined wind waves and swell:m (avgua):regular_ll:meanSea:level 0:fcst time 0 hrs (avgua):from 201501011500\n",
      "49:Mean direction of wind waves:degrees (avgua):regular_ll:meanSea:level 0:fcst time 0 hrs (avgua):from 201501011600\n",
      "50:Peak wave period:s (avgua):regular_ll:meanSea:level 0:fcst time 0 hrs (avgua):from 201501011600\n",
      "51:Significant height of combined wind waves and swell:m (avgua):regular_ll:meanSea:level 0:fcst time 0 hrs (avgua):from 201501011600\n",
      "52:Mean direction of wind waves:degrees (avgua):regular_ll:meanSea:level 0:fcst time 0 hrs (avgua):from 201501011700\n",
      "53:Peak wave period:s (avgua):regular_ll:meanSea:level 0:fcst time 0 hrs (avgua):from 201501011700\n",
      "54:Significant height of combined wind waves and swell:m (avgua):regular_ll:meanSea:level 0:fcst time 0 hrs (avgua):from 201501011700\n",
      "55:Mean direction of wind waves:degrees (avgua):regular_ll:meanSea:level 0:fcst time 0 hrs (avgua):from 201501011800\n",
      "56:Peak wave period:s (avgua):regular_ll:meanSea:level 0:fcst time 0 hrs (avgua):from 201501011800\n",
      "57:Significant height of combined wind waves and swell:m (avgua):regular_ll:meanSea:level 0:fcst time 0 hrs (avgua):from 201501011800\n",
      "58:Mean direction of wind waves:degrees (avgua):regular_ll:meanSea:level 0:fcst time 0 hrs (avgua):from 201501011900\n",
      "59:Peak wave period:s (avgua):regular_ll:meanSea:level 0:fcst time 0 hrs (avgua):from 201501011900\n",
      "60:Significant height of combined wind waves and swell:m (avgua):regular_ll:meanSea:level 0:fcst time 0 hrs (avgua):from 201501011900\n",
      "61:Mean direction of wind waves:degrees (avgua):regular_ll:meanSea:level 0:fcst time 0 hrs (avgua):from 201501012000\n",
      "62:Peak wave period:s (avgua):regular_ll:meanSea:level 0:fcst time 0 hrs (avgua):from 201501012000\n",
      "63:Significant height of combined wind waves and swell:m (avgua):regular_ll:meanSea:level 0:fcst time 0 hrs (avgua):from 201501012000\n",
      "64:Mean direction of wind waves:degrees (avgua):regular_ll:meanSea:level 0:fcst time 0 hrs (avgua):from 201501012100\n",
      "65:Peak wave period:s (avgua):regular_ll:meanSea:level 0:fcst time 0 hrs (avgua):from 201501012100\n",
      "66:Significant height of combined wind waves and swell:m (avgua):regular_ll:meanSea:level 0:fcst time 0 hrs (avgua):from 201501012100\n",
      "67:Mean direction of wind waves:degrees (avgua):regular_ll:meanSea:level 0:fcst time 0 hrs (avgua):from 201501012200\n",
      "68:Peak wave period:s (avgua):regular_ll:meanSea:level 0:fcst time 0 hrs (avgua):from 201501012200\n",
      "69:Significant height of combined wind waves and swell:m (avgua):regular_ll:meanSea:level 0:fcst time 0 hrs (avgua):from 201501012200\n",
      "70:Mean direction of wind waves:degrees (avgua):regular_ll:meanSea:level 0:fcst time 0 hrs (avgua):from 201501012300\n",
      "71:Peak wave period:s (avgua):regular_ll:meanSea:level 0:fcst time 0 hrs (avgua):from 201501012300\n",
      "72:Significant height of combined wind waves and swell:m (avgua):regular_ll:meanSea:level 0:fcst time 0 hrs (avgua):from 201501012300\n",
      "73:Mean direction of wind waves:degrees (avgua):regular_ll:meanSea:level 0:fcst time 0 hrs (avgua):from 201502010000\n",
      "74:Peak wave period:s (avgua):regular_ll:meanSea:level 0:fcst time 0 hrs (avgua):from 201502010000\n",
      "75:Significant height of combined wind waves and swell:m (avgua):regular_ll:meanSea:level 0:fcst time 0 hrs (avgua):from 201502010000\n",
      "76:Mean direction of wind waves:degrees (avgua):regular_ll:meanSea:level 0:fcst time 0 hrs (avgua):from 201502010100\n",
      "77:Peak wave period:s (avgua):regular_ll:meanSea:level 0:fcst time 0 hrs (avgua):from 201502010100\n",
      "78:Significant height of combined wind waves and swell:m (avgua):regular_ll:meanSea:level 0:fcst time 0 hrs (avgua):from 201502010100\n",
      "79:Mean direction of wind waves:degrees (avgua):regular_ll:meanSea:level 0:fcst time 0 hrs (avgua):from 201502010200\n",
      "80:Peak wave period:s (avgua):regular_ll:meanSea:level 0:fcst time 0 hrs (avgua):from 201502010200\n",
      "81:Significant height of combined wind waves and swell:m (avgua):regular_ll:meanSea:level 0:fcst time 0 hrs (avgua):from 201502010200\n",
      "82:Mean direction of wind waves:degrees (avgua):regular_ll:meanSea:level 0:fcst time 0 hrs (avgua):from 201502010300\n",
      "83:Peak wave period:s (avgua):regular_ll:meanSea:level 0:fcst time 0 hrs (avgua):from 201502010300\n"
     ]
    },
    {
     "name": "stdout",
     "output_type": "stream",
     "text": [
      "84:Significant height of combined wind waves and swell:m (avgua):regular_ll:meanSea:level 0:fcst time 0 hrs (avgua):from 201502010300\n",
      "85:Mean direction of wind waves:degrees (avgua):regular_ll:meanSea:level 0:fcst time 0 hrs (avgua):from 201502010400\n",
      "86:Peak wave period:s (avgua):regular_ll:meanSea:level 0:fcst time 0 hrs (avgua):from 201502010400\n",
      "87:Significant height of combined wind waves and swell:m (avgua):regular_ll:meanSea:level 0:fcst time 0 hrs (avgua):from 201502010400\n",
      "88:Mean direction of wind waves:degrees (avgua):regular_ll:meanSea:level 0:fcst time 0 hrs (avgua):from 201502010500\n",
      "89:Peak wave period:s (avgua):regular_ll:meanSea:level 0:fcst time 0 hrs (avgua):from 201502010500\n",
      "90:Significant height of combined wind waves and swell:m (avgua):regular_ll:meanSea:level 0:fcst time 0 hrs (avgua):from 201502010500\n",
      "91:Mean direction of wind waves:degrees (avgua):regular_ll:meanSea:level 0:fcst time 0 hrs (avgua):from 201502010600\n",
      "92:Peak wave period:s (avgua):regular_ll:meanSea:level 0:fcst time 0 hrs (avgua):from 201502010600\n",
      "93:Significant height of combined wind waves and swell:m (avgua):regular_ll:meanSea:level 0:fcst time 0 hrs (avgua):from 201502010600\n",
      "94:Mean direction of wind waves:degrees (avgua):regular_ll:meanSea:level 0:fcst time 0 hrs (avgua):from 201502010700\n",
      "95:Peak wave period:s (avgua):regular_ll:meanSea:level 0:fcst time 0 hrs (avgua):from 201502010700\n",
      "96:Significant height of combined wind waves and swell:m (avgua):regular_ll:meanSea:level 0:fcst time 0 hrs (avgua):from 201502010700\n",
      "97:Mean direction of wind waves:degrees (avgua):regular_ll:meanSea:level 0:fcst time 0 hrs (avgua):from 201502010800\n",
      "98:Peak wave period:s (avgua):regular_ll:meanSea:level 0:fcst time 0 hrs (avgua):from 201502010800\n",
      "99:Significant height of combined wind waves and swell:m (avgua):regular_ll:meanSea:level 0:fcst time 0 hrs (avgua):from 201502010800\n",
      "100:Mean direction of wind waves:degrees (avgua):regular_ll:meanSea:level 0:fcst time 0 hrs (avgua):from 201502010900\n",
      "101:Peak wave period:s (avgua):regular_ll:meanSea:level 0:fcst time 0 hrs (avgua):from 201502010900\n",
      "102:Significant height of combined wind waves and swell:m (avgua):regular_ll:meanSea:level 0:fcst time 0 hrs (avgua):from 201502010900\n",
      "103:Mean direction of wind waves:degrees (avgua):regular_ll:meanSea:level 0:fcst time 0 hrs (avgua):from 201502011000\n",
      "104:Peak wave period:s (avgua):regular_ll:meanSea:level 0:fcst time 0 hrs (avgua):from 201502011000\n",
      "105:Significant height of combined wind waves and swell:m (avgua):regular_ll:meanSea:level 0:fcst time 0 hrs (avgua):from 201502011000\n",
      "106:Mean direction of wind waves:degrees (avgua):regular_ll:meanSea:level 0:fcst time 0 hrs (avgua):from 201502011100\n",
      "107:Peak wave period:s (avgua):regular_ll:meanSea:level 0:fcst time 0 hrs (avgua):from 201502011100\n",
      "108:Significant height of combined wind waves and swell:m (avgua):regular_ll:meanSea:level 0:fcst time 0 hrs (avgua):from 201502011100\n",
      "109:Mean direction of wind waves:degrees (avgua):regular_ll:meanSea:level 0:fcst time 0 hrs (avgua):from 201502011200\n",
      "110:Peak wave period:s (avgua):regular_ll:meanSea:level 0:fcst time 0 hrs (avgua):from 201502011200\n",
      "111:Significant height of combined wind waves and swell:m (avgua):regular_ll:meanSea:level 0:fcst time 0 hrs (avgua):from 201502011200\n",
      "112:Mean direction of wind waves:degrees (avgua):regular_ll:meanSea:level 0:fcst time 0 hrs (avgua):from 201502011300\n",
      "113:Peak wave period:s (avgua):regular_ll:meanSea:level 0:fcst time 0 hrs (avgua):from 201502011300\n",
      "114:Significant height of combined wind waves and swell:m (avgua):regular_ll:meanSea:level 0:fcst time 0 hrs (avgua):from 201502011300\n",
      "115:Mean direction of wind waves:degrees (avgua):regular_ll:meanSea:level 0:fcst time 0 hrs (avgua):from 201502011400\n",
      "116:Peak wave period:s (avgua):regular_ll:meanSea:level 0:fcst time 0 hrs (avgua):from 201502011400\n",
      "117:Significant height of combined wind waves and swell:m (avgua):regular_ll:meanSea:level 0:fcst time 0 hrs (avgua):from 201502011400\n",
      "118:Mean direction of wind waves:degrees (avgua):regular_ll:meanSea:level 0:fcst time 0 hrs (avgua):from 201502011500\n",
      "119:Peak wave period:s (avgua):regular_ll:meanSea:level 0:fcst time 0 hrs (avgua):from 201502011500\n",
      "120:Significant height of combined wind waves and swell:m (avgua):regular_ll:meanSea:level 0:fcst time 0 hrs (avgua):from 201502011500\n",
      "121:Mean direction of wind waves:degrees (avgua):regular_ll:meanSea:level 0:fcst time 0 hrs (avgua):from 201502011600\n",
      "122:Peak wave period:s (avgua):regular_ll:meanSea:level 0:fcst time 0 hrs (avgua):from 201502011600\n",
      "123:Significant height of combined wind waves and swell:m (avgua):regular_ll:meanSea:level 0:fcst time 0 hrs (avgua):from 201502011600\n",
      "124:Mean direction of wind waves:degrees (avgua):regular_ll:meanSea:level 0:fcst time 0 hrs (avgua):from 201502011700\n",
      "125:Peak wave period:s (avgua):regular_ll:meanSea:level 0:fcst time 0 hrs (avgua):from 201502011700\n",
      "126:Significant height of combined wind waves and swell:m (avgua):regular_ll:meanSea:level 0:fcst time 0 hrs (avgua):from 201502011700\n",
      "127:Mean direction of wind waves:degrees (avgua):regular_ll:meanSea:level 0:fcst time 0 hrs (avgua):from 201502011800\n",
      "128:Peak wave period:s (avgua):regular_ll:meanSea:level 0:fcst time 0 hrs (avgua):from 201502011800\n",
      "129:Significant height of combined wind waves and swell:m (avgua):regular_ll:meanSea:level 0:fcst time 0 hrs (avgua):from 201502011800\n",
      "130:Mean direction of wind waves:degrees (avgua):regular_ll:meanSea:level 0:fcst time 0 hrs (avgua):from 201502011900\n",
      "131:Peak wave period:s (avgua):regular_ll:meanSea:level 0:fcst time 0 hrs (avgua):from 201502011900\n",
      "132:Significant height of combined wind waves and swell:m (avgua):regular_ll:meanSea:level 0:fcst time 0 hrs (avgua):from 201502011900\n",
      "133:Mean direction of wind waves:degrees (avgua):regular_ll:meanSea:level 0:fcst time 0 hrs (avgua):from 201502012000\n",
      "134:Peak wave period:s (avgua):regular_ll:meanSea:level 0:fcst time 0 hrs (avgua):from 201502012000\n",
      "135:Significant height of combined wind waves and swell:m (avgua):regular_ll:meanSea:level 0:fcst time 0 hrs (avgua):from 201502012000\n",
      "136:Mean direction of wind waves:degrees (avgua):regular_ll:meanSea:level 0:fcst time 0 hrs (avgua):from 201502012100\n",
      "137:Peak wave period:s (avgua):regular_ll:meanSea:level 0:fcst time 0 hrs (avgua):from 201502012100\n",
      "138:Significant height of combined wind waves and swell:m (avgua):regular_ll:meanSea:level 0:fcst time 0 hrs (avgua):from 201502012100\n",
      "139:Mean direction of wind waves:degrees (avgua):regular_ll:meanSea:level 0:fcst time 0 hrs (avgua):from 201502012200\n",
      "140:Peak wave period:s (avgua):regular_ll:meanSea:level 0:fcst time 0 hrs (avgua):from 201502012200\n",
      "141:Significant height of combined wind waves and swell:m (avgua):regular_ll:meanSea:level 0:fcst time 0 hrs (avgua):from 201502012200\n",
      "142:Mean direction of wind waves:degrees (avgua):regular_ll:meanSea:level 0:fcst time 0 hrs (avgua):from 201502012300\n",
      "143:Peak wave period:s (avgua):regular_ll:meanSea:level 0:fcst time 0 hrs (avgua):from 201502012300\n",
      "144:Significant height of combined wind waves and swell:m (avgua):regular_ll:meanSea:level 0:fcst time 0 hrs (avgua):from 201502012300\n",
      "145:Mean direction of wind waves:degrees (avgua):regular_ll:meanSea:level 0:fcst time 0 hrs (avgua):from 201503010000\n",
      "146:Peak wave period:s (avgua):regular_ll:meanSea:level 0:fcst time 0 hrs (avgua):from 201503010000\n",
      "147:Significant height of combined wind waves and swell:m (avgua):regular_ll:meanSea:level 0:fcst time 0 hrs (avgua):from 201503010000\n",
      "148:Mean direction of wind waves:degrees (avgua):regular_ll:meanSea:level 0:fcst time 0 hrs (avgua):from 201503010100\n",
      "149:Peak wave period:s (avgua):regular_ll:meanSea:level 0:fcst time 0 hrs (avgua):from 201503010100\n",
      "150:Significant height of combined wind waves and swell:m (avgua):regular_ll:meanSea:level 0:fcst time 0 hrs (avgua):from 201503010100\n",
      "151:Mean direction of wind waves:degrees (avgua):regular_ll:meanSea:level 0:fcst time 0 hrs (avgua):from 201503010200\n",
      "152:Peak wave period:s (avgua):regular_ll:meanSea:level 0:fcst time 0 hrs (avgua):from 201503010200\n",
      "153:Significant height of combined wind waves and swell:m (avgua):regular_ll:meanSea:level 0:fcst time 0 hrs (avgua):from 201503010200\n",
      "154:Mean direction of wind waves:degrees (avgua):regular_ll:meanSea:level 0:fcst time 0 hrs (avgua):from 201503010300\n",
      "155:Peak wave period:s (avgua):regular_ll:meanSea:level 0:fcst time 0 hrs (avgua):from 201503010300\n",
      "156:Significant height of combined wind waves and swell:m (avgua):regular_ll:meanSea:level 0:fcst time 0 hrs (avgua):from 201503010300\n",
      "157:Mean direction of wind waves:degrees (avgua):regular_ll:meanSea:level 0:fcst time 0 hrs (avgua):from 201503010400\n",
      "158:Peak wave period:s (avgua):regular_ll:meanSea:level 0:fcst time 0 hrs (avgua):from 201503010400\n",
      "159:Significant height of combined wind waves and swell:m (avgua):regular_ll:meanSea:level 0:fcst time 0 hrs (avgua):from 201503010400\n",
      "160:Mean direction of wind waves:degrees (avgua):regular_ll:meanSea:level 0:fcst time 0 hrs (avgua):from 201503010500\n",
      "161:Peak wave period:s (avgua):regular_ll:meanSea:level 0:fcst time 0 hrs (avgua):from 201503010500\n",
      "162:Significant height of combined wind waves and swell:m (avgua):regular_ll:meanSea:level 0:fcst time 0 hrs (avgua):from 201503010500\n",
      "163:Mean direction of wind waves:degrees (avgua):regular_ll:meanSea:level 0:fcst time 0 hrs (avgua):from 201503010600\n",
      "164:Peak wave period:s (avgua):regular_ll:meanSea:level 0:fcst time 0 hrs (avgua):from 201503010600\n",
      "165:Significant height of combined wind waves and swell:m (avgua):regular_ll:meanSea:level 0:fcst time 0 hrs (avgua):from 201503010600\n",
      "166:Mean direction of wind waves:degrees (avgua):regular_ll:meanSea:level 0:fcst time 0 hrs (avgua):from 201503010700\n"
     ]
    },
    {
     "name": "stdout",
     "output_type": "stream",
     "text": [
      "167:Peak wave period:s (avgua):regular_ll:meanSea:level 0:fcst time 0 hrs (avgua):from 201503010700\n",
      "168:Significant height of combined wind waves and swell:m (avgua):regular_ll:meanSea:level 0:fcst time 0 hrs (avgua):from 201503010700\n",
      "169:Mean direction of wind waves:degrees (avgua):regular_ll:meanSea:level 0:fcst time 0 hrs (avgua):from 201503010800\n",
      "170:Peak wave period:s (avgua):regular_ll:meanSea:level 0:fcst time 0 hrs (avgua):from 201503010800\n",
      "171:Significant height of combined wind waves and swell:m (avgua):regular_ll:meanSea:level 0:fcst time 0 hrs (avgua):from 201503010800\n",
      "172:Mean direction of wind waves:degrees (avgua):regular_ll:meanSea:level 0:fcst time 0 hrs (avgua):from 201503010900\n",
      "173:Peak wave period:s (avgua):regular_ll:meanSea:level 0:fcst time 0 hrs (avgua):from 201503010900\n",
      "174:Significant height of combined wind waves and swell:m (avgua):regular_ll:meanSea:level 0:fcst time 0 hrs (avgua):from 201503010900\n",
      "175:Mean direction of wind waves:degrees (avgua):regular_ll:meanSea:level 0:fcst time 0 hrs (avgua):from 201503011000\n",
      "176:Peak wave period:s (avgua):regular_ll:meanSea:level 0:fcst time 0 hrs (avgua):from 201503011000\n",
      "177:Significant height of combined wind waves and swell:m (avgua):regular_ll:meanSea:level 0:fcst time 0 hrs (avgua):from 201503011000\n",
      "178:Mean direction of wind waves:degrees (avgua):regular_ll:meanSea:level 0:fcst time 0 hrs (avgua):from 201503011100\n",
      "179:Peak wave period:s (avgua):regular_ll:meanSea:level 0:fcst time 0 hrs (avgua):from 201503011100\n",
      "180:Significant height of combined wind waves and swell:m (avgua):regular_ll:meanSea:level 0:fcst time 0 hrs (avgua):from 201503011100\n",
      "181:Mean direction of wind waves:degrees (avgua):regular_ll:meanSea:level 0:fcst time 0 hrs (avgua):from 201503011200\n",
      "182:Peak wave period:s (avgua):regular_ll:meanSea:level 0:fcst time 0 hrs (avgua):from 201503011200\n",
      "183:Significant height of combined wind waves and swell:m (avgua):regular_ll:meanSea:level 0:fcst time 0 hrs (avgua):from 201503011200\n",
      "184:Mean direction of wind waves:degrees (avgua):regular_ll:meanSea:level 0:fcst time 0 hrs (avgua):from 201503011300\n",
      "185:Peak wave period:s (avgua):regular_ll:meanSea:level 0:fcst time 0 hrs (avgua):from 201503011300\n",
      "186:Significant height of combined wind waves and swell:m (avgua):regular_ll:meanSea:level 0:fcst time 0 hrs (avgua):from 201503011300\n",
      "187:Mean direction of wind waves:degrees (avgua):regular_ll:meanSea:level 0:fcst time 0 hrs (avgua):from 201503011400\n",
      "188:Peak wave period:s (avgua):regular_ll:meanSea:level 0:fcst time 0 hrs (avgua):from 201503011400\n",
      "189:Significant height of combined wind waves and swell:m (avgua):regular_ll:meanSea:level 0:fcst time 0 hrs (avgua):from 201503011400\n",
      "190:Mean direction of wind waves:degrees (avgua):regular_ll:meanSea:level 0:fcst time 0 hrs (avgua):from 201503011500\n",
      "191:Peak wave period:s (avgua):regular_ll:meanSea:level 0:fcst time 0 hrs (avgua):from 201503011500\n",
      "192:Significant height of combined wind waves and swell:m (avgua):regular_ll:meanSea:level 0:fcst time 0 hrs (avgua):from 201503011500\n",
      "193:Mean direction of wind waves:degrees (avgua):regular_ll:meanSea:level 0:fcst time 0 hrs (avgua):from 201503011600\n",
      "194:Peak wave period:s (avgua):regular_ll:meanSea:level 0:fcst time 0 hrs (avgua):from 201503011600\n",
      "195:Significant height of combined wind waves and swell:m (avgua):regular_ll:meanSea:level 0:fcst time 0 hrs (avgua):from 201503011600\n",
      "196:Mean direction of wind waves:degrees (avgua):regular_ll:meanSea:level 0:fcst time 0 hrs (avgua):from 201503011700\n",
      "197:Peak wave period:s (avgua):regular_ll:meanSea:level 0:fcst time 0 hrs (avgua):from 201503011700\n",
      "198:Significant height of combined wind waves and swell:m (avgua):regular_ll:meanSea:level 0:fcst time 0 hrs (avgua):from 201503011700\n",
      "199:Mean direction of wind waves:degrees (avgua):regular_ll:meanSea:level 0:fcst time 0 hrs (avgua):from 201503011800\n",
      "200:Peak wave period:s (avgua):regular_ll:meanSea:level 0:fcst time 0 hrs (avgua):from 201503011800\n",
      "201:Significant height of combined wind waves and swell:m (avgua):regular_ll:meanSea:level 0:fcst time 0 hrs (avgua):from 201503011800\n",
      "202:Mean direction of wind waves:degrees (avgua):regular_ll:meanSea:level 0:fcst time 0 hrs (avgua):from 201503011900\n",
      "203:Peak wave period:s (avgua):regular_ll:meanSea:level 0:fcst time 0 hrs (avgua):from 201503011900\n",
      "204:Significant height of combined wind waves and swell:m (avgua):regular_ll:meanSea:level 0:fcst time 0 hrs (avgua):from 201503011900\n",
      "205:Mean direction of wind waves:degrees (avgua):regular_ll:meanSea:level 0:fcst time 0 hrs (avgua):from 201503012000\n",
      "206:Peak wave period:s (avgua):regular_ll:meanSea:level 0:fcst time 0 hrs (avgua):from 201503012000\n",
      "207:Significant height of combined wind waves and swell:m (avgua):regular_ll:meanSea:level 0:fcst time 0 hrs (avgua):from 201503012000\n",
      "208:Mean direction of wind waves:degrees (avgua):regular_ll:meanSea:level 0:fcst time 0 hrs (avgua):from 201503012100\n",
      "209:Peak wave period:s (avgua):regular_ll:meanSea:level 0:fcst time 0 hrs (avgua):from 201503012100\n",
      "210:Significant height of combined wind waves and swell:m (avgua):regular_ll:meanSea:level 0:fcst time 0 hrs (avgua):from 201503012100\n",
      "211:Mean direction of wind waves:degrees (avgua):regular_ll:meanSea:level 0:fcst time 0 hrs (avgua):from 201503012200\n",
      "212:Peak wave period:s (avgua):regular_ll:meanSea:level 0:fcst time 0 hrs (avgua):from 201503012200\n",
      "213:Significant height of combined wind waves and swell:m (avgua):regular_ll:meanSea:level 0:fcst time 0 hrs (avgua):from 201503012200\n",
      "214:Mean direction of wind waves:degrees (avgua):regular_ll:meanSea:level 0:fcst time 0 hrs (avgua):from 201503012300\n",
      "215:Peak wave period:s (avgua):regular_ll:meanSea:level 0:fcst time 0 hrs (avgua):from 201503012300\n",
      "216:Significant height of combined wind waves and swell:m (avgua):regular_ll:meanSea:level 0:fcst time 0 hrs (avgua):from 201503012300\n",
      "217:Mean direction of wind waves:degrees (avgua):regular_ll:meanSea:level 0:fcst time 0 hrs (avgua):from 201504010000\n",
      "218:Peak wave period:s (avgua):regular_ll:meanSea:level 0:fcst time 0 hrs (avgua):from 201504010000\n",
      "219:Significant height of combined wind waves and swell:m (avgua):regular_ll:meanSea:level 0:fcst time 0 hrs (avgua):from 201504010000\n",
      "220:Mean direction of wind waves:degrees (avgua):regular_ll:meanSea:level 0:fcst time 0 hrs (avgua):from 201504010100\n",
      "221:Peak wave period:s (avgua):regular_ll:meanSea:level 0:fcst time 0 hrs (avgua):from 201504010100\n",
      "222:Significant height of combined wind waves and swell:m (avgua):regular_ll:meanSea:level 0:fcst time 0 hrs (avgua):from 201504010100\n",
      "223:Mean direction of wind waves:degrees (avgua):regular_ll:meanSea:level 0:fcst time 0 hrs (avgua):from 201504010200\n",
      "224:Peak wave period:s (avgua):regular_ll:meanSea:level 0:fcst time 0 hrs (avgua):from 201504010200\n",
      "225:Significant height of combined wind waves and swell:m (avgua):regular_ll:meanSea:level 0:fcst time 0 hrs (avgua):from 201504010200\n",
      "226:Mean direction of wind waves:degrees (avgua):regular_ll:meanSea:level 0:fcst time 0 hrs (avgua):from 201504010300\n",
      "227:Peak wave period:s (avgua):regular_ll:meanSea:level 0:fcst time 0 hrs (avgua):from 201504010300\n",
      "228:Significant height of combined wind waves and swell:m (avgua):regular_ll:meanSea:level 0:fcst time 0 hrs (avgua):from 201504010300\n",
      "229:Mean direction of wind waves:degrees (avgua):regular_ll:meanSea:level 0:fcst time 0 hrs (avgua):from 201504010400\n",
      "230:Peak wave period:s (avgua):regular_ll:meanSea:level 0:fcst time 0 hrs (avgua):from 201504010400\n",
      "231:Significant height of combined wind waves and swell:m (avgua):regular_ll:meanSea:level 0:fcst time 0 hrs (avgua):from 201504010400\n",
      "232:Mean direction of wind waves:degrees (avgua):regular_ll:meanSea:level 0:fcst time 0 hrs (avgua):from 201504010500\n",
      "233:Peak wave period:s (avgua):regular_ll:meanSea:level 0:fcst time 0 hrs (avgua):from 201504010500\n",
      "234:Significant height of combined wind waves and swell:m (avgua):regular_ll:meanSea:level 0:fcst time 0 hrs (avgua):from 201504010500\n",
      "235:Mean direction of wind waves:degrees (avgua):regular_ll:meanSea:level 0:fcst time 0 hrs (avgua):from 201504010600\n",
      "236:Peak wave period:s (avgua):regular_ll:meanSea:level 0:fcst time 0 hrs (avgua):from 201504010600\n",
      "237:Significant height of combined wind waves and swell:m (avgua):regular_ll:meanSea:level 0:fcst time 0 hrs (avgua):from 201504010600\n",
      "238:Mean direction of wind waves:degrees (avgua):regular_ll:meanSea:level 0:fcst time 0 hrs (avgua):from 201504010700\n"
     ]
    },
    {
     "name": "stdout",
     "output_type": "stream",
     "text": [
      "239:Peak wave period:s (avgua):regular_ll:meanSea:level 0:fcst time 0 hrs (avgua):from 201504010700\n",
      "240:Significant height of combined wind waves and swell:m (avgua):regular_ll:meanSea:level 0:fcst time 0 hrs (avgua):from 201504010700\n",
      "241:Mean direction of wind waves:degrees (avgua):regular_ll:meanSea:level 0:fcst time 0 hrs (avgua):from 201504010800\n",
      "242:Peak wave period:s (avgua):regular_ll:meanSea:level 0:fcst time 0 hrs (avgua):from 201504010800\n",
      "243:Significant height of combined wind waves and swell:m (avgua):regular_ll:meanSea:level 0:fcst time 0 hrs (avgua):from 201504010800\n",
      "244:Mean direction of wind waves:degrees (avgua):regular_ll:meanSea:level 0:fcst time 0 hrs (avgua):from 201504010900\n",
      "245:Peak wave period:s (avgua):regular_ll:meanSea:level 0:fcst time 0 hrs (avgua):from 201504010900\n",
      "246:Significant height of combined wind waves and swell:m (avgua):regular_ll:meanSea:level 0:fcst time 0 hrs (avgua):from 201504010900\n",
      "247:Mean direction of wind waves:degrees (avgua):regular_ll:meanSea:level 0:fcst time 0 hrs (avgua):from 201504011000\n",
      "248:Peak wave period:s (avgua):regular_ll:meanSea:level 0:fcst time 0 hrs (avgua):from 201504011000\n",
      "249:Significant height of combined wind waves and swell:m (avgua):regular_ll:meanSea:level 0:fcst time 0 hrs (avgua):from 201504011000\n",
      "250:Mean direction of wind waves:degrees (avgua):regular_ll:meanSea:level 0:fcst time 0 hrs (avgua):from 201504011100\n",
      "251:Peak wave period:s (avgua):regular_ll:meanSea:level 0:fcst time 0 hrs (avgua):from 201504011100\n",
      "252:Significant height of combined wind waves and swell:m (avgua):regular_ll:meanSea:level 0:fcst time 0 hrs (avgua):from 201504011100\n",
      "253:Mean direction of wind waves:degrees (avgua):regular_ll:meanSea:level 0:fcst time 0 hrs (avgua):from 201504011200\n",
      "254:Peak wave period:s (avgua):regular_ll:meanSea:level 0:fcst time 0 hrs (avgua):from 201504011200\n",
      "255:Significant height of combined wind waves and swell:m (avgua):regular_ll:meanSea:level 0:fcst time 0 hrs (avgua):from 201504011200\n",
      "256:Mean direction of wind waves:degrees (avgua):regular_ll:meanSea:level 0:fcst time 0 hrs (avgua):from 201504011300\n",
      "257:Peak wave period:s (avgua):regular_ll:meanSea:level 0:fcst time 0 hrs (avgua):from 201504011300\n",
      "258:Significant height of combined wind waves and swell:m (avgua):regular_ll:meanSea:level 0:fcst time 0 hrs (avgua):from 201504011300\n",
      "259:Mean direction of wind waves:degrees (avgua):regular_ll:meanSea:level 0:fcst time 0 hrs (avgua):from 201504011400\n",
      "260:Peak wave period:s (avgua):regular_ll:meanSea:level 0:fcst time 0 hrs (avgua):from 201504011400\n",
      "261:Significant height of combined wind waves and swell:m (avgua):regular_ll:meanSea:level 0:fcst time 0 hrs (avgua):from 201504011400\n",
      "262:Mean direction of wind waves:degrees (avgua):regular_ll:meanSea:level 0:fcst time 0 hrs (avgua):from 201504011500\n",
      "263:Peak wave period:s (avgua):regular_ll:meanSea:level 0:fcst time 0 hrs (avgua):from 201504011500\n",
      "264:Significant height of combined wind waves and swell:m (avgua):regular_ll:meanSea:level 0:fcst time 0 hrs (avgua):from 201504011500\n",
      "265:Mean direction of wind waves:degrees (avgua):regular_ll:meanSea:level 0:fcst time 0 hrs (avgua):from 201504011600\n",
      "266:Peak wave period:s (avgua):regular_ll:meanSea:level 0:fcst time 0 hrs (avgua):from 201504011600\n",
      "267:Significant height of combined wind waves and swell:m (avgua):regular_ll:meanSea:level 0:fcst time 0 hrs (avgua):from 201504011600\n",
      "268:Mean direction of wind waves:degrees (avgua):regular_ll:meanSea:level 0:fcst time 0 hrs (avgua):from 201504011700\n",
      "269:Peak wave period:s (avgua):regular_ll:meanSea:level 0:fcst time 0 hrs (avgua):from 201504011700\n",
      "270:Significant height of combined wind waves and swell:m (avgua):regular_ll:meanSea:level 0:fcst time 0 hrs (avgua):from 201504011700\n",
      "271:Mean direction of wind waves:degrees (avgua):regular_ll:meanSea:level 0:fcst time 0 hrs (avgua):from 201504011800\n",
      "272:Peak wave period:s (avgua):regular_ll:meanSea:level 0:fcst time 0 hrs (avgua):from 201504011800\n",
      "273:Significant height of combined wind waves and swell:m (avgua):regular_ll:meanSea:level 0:fcst time 0 hrs (avgua):from 201504011800\n",
      "274:Mean direction of wind waves:degrees (avgua):regular_ll:meanSea:level 0:fcst time 0 hrs (avgua):from 201504011900\n",
      "275:Peak wave period:s (avgua):regular_ll:meanSea:level 0:fcst time 0 hrs (avgua):from 201504011900\n",
      "276:Significant height of combined wind waves and swell:m (avgua):regular_ll:meanSea:level 0:fcst time 0 hrs (avgua):from 201504011900\n",
      "277:Mean direction of wind waves:degrees (avgua):regular_ll:meanSea:level 0:fcst time 0 hrs (avgua):from 201504012000\n",
      "278:Peak wave period:s (avgua):regular_ll:meanSea:level 0:fcst time 0 hrs (avgua):from 201504012000\n",
      "279:Significant height of combined wind waves and swell:m (avgua):regular_ll:meanSea:level 0:fcst time 0 hrs (avgua):from 201504012000\n",
      "280:Mean direction of wind waves:degrees (avgua):regular_ll:meanSea:level 0:fcst time 0 hrs (avgua):from 201504012100\n",
      "281:Peak wave period:s (avgua):regular_ll:meanSea:level 0:fcst time 0 hrs (avgua):from 201504012100\n",
      "282:Significant height of combined wind waves and swell:m (avgua):regular_ll:meanSea:level 0:fcst time 0 hrs (avgua):from 201504012100\n",
      "283:Mean direction of wind waves:degrees (avgua):regular_ll:meanSea:level 0:fcst time 0 hrs (avgua):from 201504012200\n",
      "284:Peak wave period:s (avgua):regular_ll:meanSea:level 0:fcst time 0 hrs (avgua):from 201504012200\n",
      "285:Significant height of combined wind waves and swell:m (avgua):regular_ll:meanSea:level 0:fcst time 0 hrs (avgua):from 201504012200\n",
      "286:Mean direction of wind waves:degrees (avgua):regular_ll:meanSea:level 0:fcst time 0 hrs (avgua):from 201504012300\n",
      "287:Peak wave period:s (avgua):regular_ll:meanSea:level 0:fcst time 0 hrs (avgua):from 201504012300\n",
      "288:Significant height of combined wind waves and swell:m (avgua):regular_ll:meanSea:level 0:fcst time 0 hrs (avgua):from 201504012300\n",
      "289:Mean direction of wind waves:degrees (avgua):regular_ll:meanSea:level 0:fcst time 0 hrs (avgua):from 201505010000\n",
      "290:Peak wave period:s (avgua):regular_ll:meanSea:level 0:fcst time 0 hrs (avgua):from 201505010000\n",
      "291:Significant height of combined wind waves and swell:m (avgua):regular_ll:meanSea:level 0:fcst time 0 hrs (avgua):from 201505010000\n",
      "292:Mean direction of wind waves:degrees (avgua):regular_ll:meanSea:level 0:fcst time 0 hrs (avgua):from 201505010100\n",
      "293:Peak wave period:s (avgua):regular_ll:meanSea:level 0:fcst time 0 hrs (avgua):from 201505010100\n",
      "294:Significant height of combined wind waves and swell:m (avgua):regular_ll:meanSea:level 0:fcst time 0 hrs (avgua):from 201505010100\n",
      "295:Mean direction of wind waves:degrees (avgua):regular_ll:meanSea:level 0:fcst time 0 hrs (avgua):from 201505010200\n",
      "296:Peak wave period:s (avgua):regular_ll:meanSea:level 0:fcst time 0 hrs (avgua):from 201505010200\n",
      "297:Significant height of combined wind waves and swell:m (avgua):regular_ll:meanSea:level 0:fcst time 0 hrs (avgua):from 201505010200\n",
      "298:Mean direction of wind waves:degrees (avgua):regular_ll:meanSea:level 0:fcst time 0 hrs (avgua):from 201505010300\n",
      "299:Peak wave period:s (avgua):regular_ll:meanSea:level 0:fcst time 0 hrs (avgua):from 201505010300\n",
      "300:Significant height of combined wind waves and swell:m (avgua):regular_ll:meanSea:level 0:fcst time 0 hrs (avgua):from 201505010300\n",
      "301:Mean direction of wind waves:degrees (avgua):regular_ll:meanSea:level 0:fcst time 0 hrs (avgua):from 201505010400\n",
      "302:Peak wave period:s (avgua):regular_ll:meanSea:level 0:fcst time 0 hrs (avgua):from 201505010400\n",
      "303:Significant height of combined wind waves and swell:m (avgua):regular_ll:meanSea:level 0:fcst time 0 hrs (avgua):from 201505010400\n",
      "304:Mean direction of wind waves:degrees (avgua):regular_ll:meanSea:level 0:fcst time 0 hrs (avgua):from 201505010500\n",
      "305:Peak wave period:s (avgua):regular_ll:meanSea:level 0:fcst time 0 hrs (avgua):from 201505010500\n",
      "306:Significant height of combined wind waves and swell:m (avgua):regular_ll:meanSea:level 0:fcst time 0 hrs (avgua):from 201505010500\n",
      "307:Mean direction of wind waves:degrees (avgua):regular_ll:meanSea:level 0:fcst time 0 hrs (avgua):from 201505010600\n",
      "308:Peak wave period:s (avgua):regular_ll:meanSea:level 0:fcst time 0 hrs (avgua):from 201505010600\n",
      "309:Significant height of combined wind waves and swell:m (avgua):regular_ll:meanSea:level 0:fcst time 0 hrs (avgua):from 201505010600\n",
      "310:Mean direction of wind waves:degrees (avgua):regular_ll:meanSea:level 0:fcst time 0 hrs (avgua):from 201505010700\n",
      "311:Peak wave period:s (avgua):regular_ll:meanSea:level 0:fcst time 0 hrs (avgua):from 201505010700\n",
      "312:Significant height of combined wind waves and swell:m (avgua):regular_ll:meanSea:level 0:fcst time 0 hrs (avgua):from 201505010700\n",
      "313:Mean direction of wind waves:degrees (avgua):regular_ll:meanSea:level 0:fcst time 0 hrs (avgua):from 201505010800\n",
      "314:Peak wave period:s (avgua):regular_ll:meanSea:level 0:fcst time 0 hrs (avgua):from 201505010800\n",
      "315:Significant height of combined wind waves and swell:m (avgua):regular_ll:meanSea:level 0:fcst time 0 hrs (avgua):from 201505010800\n",
      "316:Mean direction of wind waves:degrees (avgua):regular_ll:meanSea:level 0:fcst time 0 hrs (avgua):from 201505010900\n",
      "317:Peak wave period:s (avgua):regular_ll:meanSea:level 0:fcst time 0 hrs (avgua):from 201505010900\n",
      "318:Significant height of combined wind waves and swell:m (avgua):regular_ll:meanSea:level 0:fcst time 0 hrs (avgua):from 201505010900\n",
      "319:Mean direction of wind waves:degrees (avgua):regular_ll:meanSea:level 0:fcst time 0 hrs (avgua):from 201505011000\n",
      "320:Peak wave period:s (avgua):regular_ll:meanSea:level 0:fcst time 0 hrs (avgua):from 201505011000\n",
      "321:Significant height of combined wind waves and swell:m (avgua):regular_ll:meanSea:level 0:fcst time 0 hrs (avgua):from 201505011000\n",
      "322:Mean direction of wind waves:degrees (avgua):regular_ll:meanSea:level 0:fcst time 0 hrs (avgua):from 201505011100\n",
      "323:Peak wave period:s (avgua):regular_ll:meanSea:level 0:fcst time 0 hrs (avgua):from 201505011100\n",
      "324:Significant height of combined wind waves and swell:m (avgua):regular_ll:meanSea:level 0:fcst time 0 hrs (avgua):from 201505011100\n"
     ]
    },
    {
     "name": "stdout",
     "output_type": "stream",
     "text": [
      "325:Mean direction of wind waves:degrees (avgua):regular_ll:meanSea:level 0:fcst time 0 hrs (avgua):from 201505011200\n",
      "326:Peak wave period:s (avgua):regular_ll:meanSea:level 0:fcst time 0 hrs (avgua):from 201505011200\n",
      "327:Significant height of combined wind waves and swell:m (avgua):regular_ll:meanSea:level 0:fcst time 0 hrs (avgua):from 201505011200\n",
      "328:Mean direction of wind waves:degrees (avgua):regular_ll:meanSea:level 0:fcst time 0 hrs (avgua):from 201505011300\n",
      "329:Peak wave period:s (avgua):regular_ll:meanSea:level 0:fcst time 0 hrs (avgua):from 201505011300\n",
      "330:Significant height of combined wind waves and swell:m (avgua):regular_ll:meanSea:level 0:fcst time 0 hrs (avgua):from 201505011300\n",
      "331:Mean direction of wind waves:degrees (avgua):regular_ll:meanSea:level 0:fcst time 0 hrs (avgua):from 201505011400\n",
      "332:Peak wave period:s (avgua):regular_ll:meanSea:level 0:fcst time 0 hrs (avgua):from 201505011400\n",
      "333:Significant height of combined wind waves and swell:m (avgua):regular_ll:meanSea:level 0:fcst time 0 hrs (avgua):from 201505011400\n",
      "334:Mean direction of wind waves:degrees (avgua):regular_ll:meanSea:level 0:fcst time 0 hrs (avgua):from 201505011500\n",
      "335:Peak wave period:s (avgua):regular_ll:meanSea:level 0:fcst time 0 hrs (avgua):from 201505011500\n",
      "336:Significant height of combined wind waves and swell:m (avgua):regular_ll:meanSea:level 0:fcst time 0 hrs (avgua):from 201505011500\n",
      "337:Mean direction of wind waves:degrees (avgua):regular_ll:meanSea:level 0:fcst time 0 hrs (avgua):from 201505011600\n",
      "338:Peak wave period:s (avgua):regular_ll:meanSea:level 0:fcst time 0 hrs (avgua):from 201505011600\n",
      "339:Significant height of combined wind waves and swell:m (avgua):regular_ll:meanSea:level 0:fcst time 0 hrs (avgua):from 201505011600\n",
      "340:Mean direction of wind waves:degrees (avgua):regular_ll:meanSea:level 0:fcst time 0 hrs (avgua):from 201505011700\n",
      "341:Peak wave period:s (avgua):regular_ll:meanSea:level 0:fcst time 0 hrs (avgua):from 201505011700\n",
      "342:Significant height of combined wind waves and swell:m (avgua):regular_ll:meanSea:level 0:fcst time 0 hrs (avgua):from 201505011700\n",
      "343:Mean direction of wind waves:degrees (avgua):regular_ll:meanSea:level 0:fcst time 0 hrs (avgua):from 201505011800\n",
      "344:Peak wave period:s (avgua):regular_ll:meanSea:level 0:fcst time 0 hrs (avgua):from 201505011800\n",
      "345:Significant height of combined wind waves and swell:m (avgua):regular_ll:meanSea:level 0:fcst time 0 hrs (avgua):from 201505011800\n",
      "346:Mean direction of wind waves:degrees (avgua):regular_ll:meanSea:level 0:fcst time 0 hrs (avgua):from 201505011900\n",
      "347:Peak wave period:s (avgua):regular_ll:meanSea:level 0:fcst time 0 hrs (avgua):from 201505011900\n",
      "348:Significant height of combined wind waves and swell:m (avgua):regular_ll:meanSea:level 0:fcst time 0 hrs (avgua):from 201505011900\n",
      "349:Mean direction of wind waves:degrees (avgua):regular_ll:meanSea:level 0:fcst time 0 hrs (avgua):from 201505012000\n",
      "350:Peak wave period:s (avgua):regular_ll:meanSea:level 0:fcst time 0 hrs (avgua):from 201505012000\n",
      "351:Significant height of combined wind waves and swell:m (avgua):regular_ll:meanSea:level 0:fcst time 0 hrs (avgua):from 201505012000\n",
      "352:Mean direction of wind waves:degrees (avgua):regular_ll:meanSea:level 0:fcst time 0 hrs (avgua):from 201505012100\n",
      "353:Peak wave period:s (avgua):regular_ll:meanSea:level 0:fcst time 0 hrs (avgua):from 201505012100\n",
      "354:Significant height of combined wind waves and swell:m (avgua):regular_ll:meanSea:level 0:fcst time 0 hrs (avgua):from 201505012100\n",
      "355:Mean direction of wind waves:degrees (avgua):regular_ll:meanSea:level 0:fcst time 0 hrs (avgua):from 201505012200\n",
      "356:Peak wave period:s (avgua):regular_ll:meanSea:level 0:fcst time 0 hrs (avgua):from 201505012200\n",
      "357:Significant height of combined wind waves and swell:m (avgua):regular_ll:meanSea:level 0:fcst time 0 hrs (avgua):from 201505012200\n",
      "358:Mean direction of wind waves:degrees (avgua):regular_ll:meanSea:level 0:fcst time 0 hrs (avgua):from 201505012300\n",
      "359:Peak wave period:s (avgua):regular_ll:meanSea:level 0:fcst time 0 hrs (avgua):from 201505012300\n",
      "360:Significant height of combined wind waves and swell:m (avgua):regular_ll:meanSea:level 0:fcst time 0 hrs (avgua):from 201505012300\n",
      "361:Mean direction of wind waves:degrees (avgua):regular_ll:meanSea:level 0:fcst time 0 hrs (avgua):from 201506010000\n",
      "362:Peak wave period:s (avgua):regular_ll:meanSea:level 0:fcst time 0 hrs (avgua):from 201506010000\n",
      "363:Significant height of combined wind waves and swell:m (avgua):regular_ll:meanSea:level 0:fcst time 0 hrs (avgua):from 201506010000\n",
      "364:Mean direction of wind waves:degrees (avgua):regular_ll:meanSea:level 0:fcst time 0 hrs (avgua):from 201506010100\n",
      "365:Peak wave period:s (avgua):regular_ll:meanSea:level 0:fcst time 0 hrs (avgua):from 201506010100\n",
      "366:Significant height of combined wind waves and swell:m (avgua):regular_ll:meanSea:level 0:fcst time 0 hrs (avgua):from 201506010100\n",
      "367:Mean direction of wind waves:degrees (avgua):regular_ll:meanSea:level 0:fcst time 0 hrs (avgua):from 201506010200\n",
      "368:Peak wave period:s (avgua):regular_ll:meanSea:level 0:fcst time 0 hrs (avgua):from 201506010200\n"
     ]
    },
    {
     "ename": "KeyboardInterrupt",
     "evalue": "",
     "output_type": "error",
     "traceback": [
      "\u001b[0;31m---------------------------------------------------------------------------\u001b[0m",
      "\u001b[0;31mKeyboardInterrupt\u001b[0m                         Traceback (most recent call last)",
      "\u001b[0;32m<ipython-input-6-79fd98609353>\u001b[0m in \u001b[0;36m<module>\u001b[0;34m\u001b[0m\n\u001b[1;32m      2\u001b[0m \u001b[0mgrbs\u001b[0m\u001b[0;34m.\u001b[0m\u001b[0mseek\u001b[0m\u001b[0;34m(\u001b[0m\u001b[0;36m0\u001b[0m\u001b[0;34m)\u001b[0m\u001b[0;34m\u001b[0m\u001b[0;34m\u001b[0m\u001b[0m\n\u001b[1;32m      3\u001b[0m \u001b[0;32mfor\u001b[0m \u001b[0mgrb\u001b[0m \u001b[0;32min\u001b[0m \u001b[0mgrbs\u001b[0m\u001b[0;34m:\u001b[0m\u001b[0;34m\u001b[0m\u001b[0;34m\u001b[0m\u001b[0m\n\u001b[0;32m----> 4\u001b[0;31m     \u001b[0mprint\u001b[0m\u001b[0;34m(\u001b[0m\u001b[0mgrb\u001b[0m\u001b[0;34m)\u001b[0m\u001b[0;34m\u001b[0m\u001b[0;34m\u001b[0m\u001b[0m\n\u001b[0m",
      "\u001b[0;32m~/anaconda3/lib/python3.7/site-packages/ipykernel/iostream.py\u001b[0m in \u001b[0;36mwrite\u001b[0;34m(self, string)\u001b[0m\n\u001b[1;32m    383\u001b[0m \u001b[0;34m\u001b[0m\u001b[0m\n\u001b[1;32m    384\u001b[0m     \u001b[0;32mdef\u001b[0m \u001b[0mwrite\u001b[0m\u001b[0;34m(\u001b[0m\u001b[0mself\u001b[0m\u001b[0;34m,\u001b[0m \u001b[0mstring\u001b[0m\u001b[0;34m)\u001b[0m\u001b[0;34m:\u001b[0m\u001b[0;34m\u001b[0m\u001b[0;34m\u001b[0m\u001b[0m\n\u001b[0;32m--> 385\u001b[0;31m         \u001b[0;32mif\u001b[0m \u001b[0mself\u001b[0m\u001b[0;34m.\u001b[0m\u001b[0mecho\u001b[0m \u001b[0;32mis\u001b[0m \u001b[0;32mnot\u001b[0m \u001b[0;32mNone\u001b[0m\u001b[0;34m:\u001b[0m\u001b[0;34m\u001b[0m\u001b[0;34m\u001b[0m\u001b[0m\n\u001b[0m\u001b[1;32m    386\u001b[0m             \u001b[0;32mtry\u001b[0m\u001b[0;34m:\u001b[0m\u001b[0;34m\u001b[0m\u001b[0;34m\u001b[0m\u001b[0m\n\u001b[1;32m    387\u001b[0m                 \u001b[0mself\u001b[0m\u001b[0;34m.\u001b[0m\u001b[0mecho\u001b[0m\u001b[0;34m.\u001b[0m\u001b[0mwrite\u001b[0m\u001b[0;34m(\u001b[0m\u001b[0mstring\u001b[0m\u001b[0;34m)\u001b[0m\u001b[0;34m\u001b[0m\u001b[0;34m\u001b[0m\u001b[0m\n",
      "\u001b[0;31mKeyboardInterrupt\u001b[0m: "
     ]
    }
   ],
   "source": [
    "grbs = gribfile\n",
    "grbs.seek(0)\n",
    "for grb in grbs:\n",
    "    print(grb)"
   ]
  },
  {
   "cell_type": "code",
   "execution_count": 8,
   "metadata": {},
   "outputs": [
    {
     "ename": "KeyboardInterrupt",
     "evalue": "",
     "output_type": "error",
     "traceback": [
      "\u001b[0;31m---------------------------------------------------------------------------\u001b[0m",
      "\u001b[0;31mKeyboardInterrupt\u001b[0m                         Traceback (most recent call last)",
      "\u001b[0;32m<ipython-input-8-9311605855ac>\u001b[0m in \u001b[0;36m<module>\u001b[0;34m\u001b[0m\n\u001b[0;32m----> 1\u001b[0;31m \u001b[0mgrbs\u001b[0m\u001b[0;34m.\u001b[0m\u001b[0mselect\u001b[0m\u001b[0;34m(\u001b[0m\u001b[0mname\u001b[0m\u001b[0;34m=\u001b[0m\u001b[0;34m'Significant height of combined wind waves and swell'\u001b[0m\u001b[0;34m)\u001b[0m\u001b[0;34m[\u001b[0m\u001b[0;36m0\u001b[0m\u001b[0;34m]\u001b[0m\u001b[0;34m\u001b[0m\u001b[0;34m\u001b[0m\u001b[0m\n\u001b[0m",
      "\u001b[0;31mKeyboardInterrupt\u001b[0m: "
     ]
    }
   ],
   "source": [
    "grbs.select(name='Significant height of combined wind waves and swell')[0]"
   ]
  },
  {
   "cell_type": "code",
   "execution_count": null,
   "metadata": {},
   "outputs": [],
   "source": []
  },
  {
   "cell_type": "code",
   "execution_count": 1,
   "metadata": {},
   "outputs": [],
   "source": [
    "from netCDF4 import Dataset\n",
    "import numpy as np"
   ]
  },
  {
   "cell_type": "code",
   "execution_count": 2,
   "metadata": {},
   "outputs": [],
   "source": [
    "my_example_nc_file = 'era5.nc'\n",
    "fh = Dataset(my_example_nc_file, mode='r')"
   ]
  },
  {
   "cell_type": "code",
   "execution_count": 9,
   "metadata": {},
   "outputs": [
    {
     "data": {
      "text/plain": [
       "<class 'netCDF4._netCDF4.Variable'>\n",
       "float32 longitude(longitude)\n",
       "    units: degrees_east\n",
       "    long_name: longitude\n",
       "unlimited dimensions: \n",
       "current shape = (720,)\n",
       "filling on, default _FillValue of 9.969209968386869e+36 used"
      ]
     },
     "execution_count": 9,
     "metadata": {},
     "output_type": "execute_result"
    }
   ],
   "source": [
    "fh.variables['longitude']"
   ]
  },
  {
   "cell_type": "code",
   "execution_count": 7,
   "metadata": {},
   "outputs": [
    {
     "data": {
      "text/plain": [
       "<class 'netCDF4._netCDF4.Variable'>\n",
       "float32 latitude(latitude)\n",
       "    units: degrees_north\n",
       "    long_name: latitude\n",
       "unlimited dimensions: \n",
       "current shape = (361,)\n",
       "filling on, default _FillValue of 9.969209968386869e+36 used"
      ]
     },
     "execution_count": 7,
     "metadata": {},
     "output_type": "execute_result"
    }
   ],
   "source": [
    "fh.variables['latitude']"
   ]
  },
  {
   "cell_type": "code",
   "execution_count": 23,
   "metadata": {},
   "outputs": [
    {
     "name": "stderr",
     "output_type": "stream",
     "text": [
      "/home/breno/anaconda3/lib/python3.7/site-packages/ipykernel_launcher.py:1: DeprecationWarning: `np.bool` is a deprecated alias for the builtin `bool`. To silence this warning, use `bool` by itself. Doing this will not modify any behavior and is safe. If you specifically wanted the numpy scalar type, use `np.bool_` here.\n",
      "Deprecated in NumPy 1.20; for more details and guidance: https://numpy.org/devdocs/release/1.20.0-notes.html#deprecations\n",
      "  \"\"\"Entry point for launching an IPython kernel.\n"
     ]
    },
    {
     "data": {
      "text/plain": [
       "array(1008072, dtype=int32)"
      ]
     },
     "execution_count": 23,
     "metadata": {},
     "output_type": "execute_result"
    }
   ],
   "source": [
    "fh.variables['time'][0].data"
   ]
  },
  {
   "cell_type": "code",
   "execution_count": 26,
   "metadata": {},
   "outputs": [
    {
     "name": "stderr",
     "output_type": "stream",
     "text": [
      "/home/breno/anaconda3/lib/python3.7/site-packages/ipykernel_launcher.py:4: DeprecationWarning: `np.bool` is a deprecated alias for the builtin `bool`. To silence this warning, use `bool` by itself. Doing this will not modify any behavior and is safe. If you specifically wanted the numpy scalar type, use `np.bool_` here.\n",
      "Deprecated in NumPy 1.20; for more details and guidance: https://numpy.org/devdocs/release/1.20.0-notes.html#deprecations\n",
      "  after removing the cwd from sys.path.\n",
      "/home/breno/anaconda3/lib/python3.7/site-packages/ipykernel_launcher.py:4: DeprecationWarning: tostring() is deprecated. Use tobytes() instead.\n",
      "  after removing the cwd from sys.path.\n"
     ]
    }
   ],
   "source": [
    "import netCDF4\n",
    "\n",
    "time = fh.variables['time'] # do not cast to numpy array yet \n",
    "time_convert = netCDF4.num2date(time[:], time.units, time.calendar)\n",
    "time_convert"
   ]
  },
  {
   "cell_type": "code",
   "execution_count": null,
   "metadata": {},
   "outputs": [],
   "source": [
    "fh.variables['mdww'] # direcao"
   ]
  },
  {
   "cell_type": "code",
   "execution_count": 16,
   "metadata": {},
   "outputs": [
    {
     "data": {
      "text/plain": [
       "<class 'netCDF4._netCDF4.Variable'>\n",
       "int16 pp1d(time, latitude, longitude)\n",
       "    scale_factor: 0.00021766882458055931\n",
       "    add_offset: 8.958163622710513\n",
       "    _FillValue: -32767\n",
       "    missing_value: -32767\n",
       "    units: s\n",
       "    long_name: Peak wave period\n",
       "unlimited dimensions: \n",
       "current shape = (84, 361, 720)\n",
       "filling on"
      ]
     },
     "execution_count": 16,
     "metadata": {},
     "output_type": "execute_result"
    }
   ],
   "source": [
    "fh.variables['pp1d'] #tp"
   ]
  },
  {
   "cell_type": "code",
   "execution_count": 17,
   "metadata": {},
   "outputs": [
    {
     "data": {
      "text/plain": [
       "<class 'netCDF4._netCDF4.Variable'>\n",
       "int16 swh(time, latitude, longitude)\n",
       "    scale_factor: 9.925719203060976e-05\n",
       "    add_offset: 3.28914062650948\n",
       "    _FillValue: -32767\n",
       "    missing_value: -32767\n",
       "    units: m\n",
       "    long_name: Significant height of combined wind waves and swell\n",
       "unlimited dimensions: \n",
       "current shape = (84, 361, 720)\n",
       "filling on"
      ]
     },
     "execution_count": 17,
     "metadata": {},
     "output_type": "execute_result"
    }
   ],
   "source": [
    "fh.variables['swh'] #hs"
   ]
  },
  {
   "cell_type": "code",
   "execution_count": null,
   "metadata": {},
   "outputs": [],
   "source": []
  }
 ],
 "metadata": {
  "kernelspec": {
   "display_name": "Python 3",
   "language": "python",
   "name": "python3"
  },
  "language_info": {
   "codemirror_mode": {
    "name": "ipython",
    "version": 3
   },
   "file_extension": ".py",
   "mimetype": "text/x-python",
   "name": "python",
   "nbconvert_exporter": "python",
   "pygments_lexer": "ipython3",
   "version": "3.7.6"
  }
 },
 "nbformat": 4,
 "nbformat_minor": 4
}
